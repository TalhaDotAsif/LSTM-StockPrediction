{
  "nbformat": 4,
  "nbformat_minor": 0,
  "metadata": {
    "colab": {
      "name": "LSTM.ipynb",
      "provenance": [],
      "collapsed_sections": []
    },
    "kernelspec": {
      "name": "python3",
      "display_name": "Python 3"
    }
  },
  "cells": [
    {
      "cell_type": "code",
      "metadata": {
        "id": "MSm5Vfc3_Pt1"
      },
      "source": [
        "#Description: Predict the stock prices of a company using \"long short term memory\" which is an artificial recurrent neural network"
      ],
      "execution_count": null,
      "outputs": []
    },
    {
      "cell_type": "code",
      "metadata": {
        "id": "Hhi5B31j_vBj"
      },
      "source": [
        "#importing libraries\r\n",
        "import math\r\n",
        "import pandas_datareader as web\r\n",
        "import numpy as np\r\n",
        "import pandas as pd\r\n",
        "from sklearn.preprocessing import MinMaxScaler\r\n",
        "from keras.model import Sequential\r\n",
        "from keras.layer import Dense,LSTM\r\n",
        "import matplotlib.pyplot as plt\r\n",
        "plt.style.use('fivethirtyeight')"
      ],
      "execution_count": null,
      "outputs": []
    },
    {
      "cell_type": "code",
      "metadata": {
        "id": "H1OMCPWJAjNF"
      },
      "source": [
        "#Get the stock quote\r\n",
        "df=web.DataReader('AAPL',data_source='yahoo',start='2012-01-01',end='2019-01-01')\r\n",
        "#show tech data\r\n",
        "df.shape"
      ],
      "execution_count": null,
      "outputs": []
    },
    {
      "cell_type": "code",
      "metadata": {
        "id": "NilrlHk8BZpN"
      },
      "source": [
        "plt.figure(figsize=(16,8))\r\n",
        "plt.title('Close Price History')\r\n",
        "plt.plot(df['Close'])\r\n",
        "plt.xlabel('Date',fontsize=18)\r\n",
        "plt.ylabel('Close Price USD ($)',fontsize=18)\r\n",
        "plt.show()"
      ],
      "execution_count": null,
      "outputs": []
    },
    {
      "cell_type": "code",
      "metadata": {
        "id": "u28J_IwjBcFn"
      },
      "source": [
        "#Create a new dataframe with only the 'Close' column\r\n",
        "data = df.filter(['Close'])\r\n",
        "#Converting the dataframe to a numpy array\r\n",
        "dataset = data.values\r\n",
        "#Get /Compute the number of rows to train the model on\r\n",
        "training_data_len = math.ceil( len(dataset) *.8) "
      ],
      "execution_count": null,
      "outputs": []
    },
    {
      "cell_type": "code",
      "metadata": {
        "id": "MnPExYC2BeaN"
      },
      "source": [
        "#Scale the all of the data to be values between 0 and 1 \r\n",
        "scaler = MinMaxScaler(feature_range=(0, 1)) \r\n",
        "scaled_data = scaler.fit_transform(dataset)"
      ],
      "execution_count": null,
      "outputs": []
    },
    {
      "cell_type": "code",
      "metadata": {
        "id": "t_-1iKqQBgbE"
      },
      "source": [
        "#Create the scaled training data set \r\n",
        "train_data = scaled_data[0:training_data_len  , : ]\r\n",
        "#Split the data into x_train and y_train data sets\r\n",
        "x_train=[]\r\n",
        "y_train = []\r\n",
        "for i in range(60,len(train_data)):\r\n",
        "    x_train.append(train_data[i-60:i,0])\r\n",
        "    y_train.append(train_data[i,0])"
      ],
      "execution_count": null,
      "outputs": []
    },
    {
      "cell_type": "code",
      "metadata": {
        "id": "YkxTF_Q_BhY0"
      },
      "source": [
        "#Convert x_train and y_train to numpy arrays\r\n",
        "x_train, y_train = np.array(x_train), np.array(y_train)"
      ],
      "execution_count": null,
      "outputs": []
    },
    {
      "cell_type": "code",
      "metadata": {
        "id": "D3We17yABkgA"
      },
      "source": [
        "#Reshape the data into the shape accepted by the LSTM\r\n",
        "x_train = np.reshape(x_train, (x_train.shape[0],x_train.shape[1],1))"
      ],
      "execution_count": null,
      "outputs": []
    },
    {
      "cell_type": "code",
      "metadata": {
        "id": "ffzdzGUjBmlV"
      },
      "source": [
        "#Build the LSTM network model\r\n",
        "model = Sequential()\r\n",
        "model.add(LSTM(units=50, return_sequences=True,input_shape=(x_train.shape[1],1)))\r\n",
        "model.add(LSTM(units=50, return_sequences=False))\r\n",
        "model.add(Dense(units=25))\r\n",
        "model.add(Dense(units=1))"
      ],
      "execution_count": null,
      "outputs": []
    },
    {
      "cell_type": "code",
      "metadata": {
        "id": "e77pEB8wBrzX"
      },
      "source": [
        "#Compile the model\r\n",
        "model.compile(optimizer='adam', loss='mean_squared_error')"
      ],
      "execution_count": null,
      "outputs": []
    },
    {
      "cell_type": "code",
      "metadata": {
        "id": "NwEkXEdBBsk-"
      },
      "source": [
        "#Train the model\r\n",
        "model.fit(x_train, y_train, batch_size=1, epochs=1)"
      ],
      "execution_count": null,
      "outputs": []
    },
    {
      "cell_type": "code",
      "metadata": {
        "id": "MrwHqZcsBulA"
      },
      "source": [
        "#Test data set\r\n",
        "test_data = scaled_data[training_data_len - 60: , : ]\r\n",
        "#Create the x_test and y_test data sets\r\n",
        "x_test = []\r\n",
        "y_test =  dataset[training_data_len : , : ] #Get all of the rows from index 1603 to the rest and all of the columns (in this case it's only column 'Close'), so 2003 - 1603 = 400 rows of data\r\n",
        "for i in range(60,len(test_data)):\r\n",
        "    x_test.append(test_data[i-60:i,0])"
      ],
      "execution_count": null,
      "outputs": []
    },
    {
      "cell_type": "code",
      "metadata": {
        "id": "sDj53K3MBw86"
      },
      "source": [
        "#Convert x_test to a numpy array \r\n",
        "x_test = np.array(x_test)"
      ],
      "execution_count": null,
      "outputs": []
    },
    {
      "cell_type": "code",
      "metadata": {
        "id": "9uSkv37_Bz0C"
      },
      "source": [
        "#Reshape the data into the shape accepted by the LSTM\r\n",
        "x_test = np.reshape(x_test, (x_test.shape[0],x_test.shape[1],1))"
      ],
      "execution_count": null,
      "outputs": []
    },
    {
      "cell_type": "code",
      "metadata": {
        "id": "cBXZLe2dB2Hd"
      },
      "source": [
        "#Getting the models predicted price values\r\n",
        "predictions = model.predict(x_test) \r\n",
        "predictions = scaler.inverse_transform(predictions)#Undo scaling"
      ],
      "execution_count": null,
      "outputs": []
    },
    {
      "cell_type": "code",
      "metadata": {
        "id": "FX3OkAWHB5tb"
      },
      "source": [
        "#Calculate/Get the value of RMSE\r\n",
        "rmse=np.sqrt(np.mean(((predictions- y_test)**2)))\r\n",
        "rmse"
      ],
      "execution_count": null,
      "outputs": []
    },
    {
      "cell_type": "code",
      "metadata": {
        "id": "Ifa2FLeVB6Ld"
      },
      "source": [
        "#Plot/Create the data for the graph\r\n",
        "train = data[:training_data_len]\r\n",
        "valid = data[training_data_len:]\r\n",
        "valid['Predictions'] = predictions\r\n",
        "#Visualize the data\r\n",
        "plt.figure(figsize=(16,8))\r\n",
        "plt.title('Model')\r\n",
        "plt.xlabel('Date', fontsize=18)\r\n",
        "plt.ylabel('Close Price USD ($)', fontsize=18)\r\n",
        "plt.plot(train['Close'])\r\n",
        "plt.plot(valid[['Close', 'Predictions']])\r\n",
        "plt.legend(['Train', 'Val', 'Predictions'], loc='lower right')\r\n",
        "plt.show()"
      ],
      "execution_count": null,
      "outputs": []
    },
    {
      "cell_type": "code",
      "metadata": {
        "id": "e67lOoFFB8QX"
      },
      "source": [
        "#Show the valid and predicted prices\r\n",
        "valid"
      ],
      "execution_count": null,
      "outputs": []
    },
    {
      "cell_type": "code",
      "metadata": {
        "id": "YhI9n9S9CAS0"
      },
      "source": [
        ""
      ],
      "execution_count": null,
      "outputs": []
    }
  ]
}